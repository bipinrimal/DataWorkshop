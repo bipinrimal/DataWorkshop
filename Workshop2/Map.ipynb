{
 "cells": [
  {
   "cell_type": "code",
   "execution_count": 162,
   "metadata": {},
   "outputs": [
    {
     "data": {
      "application/javascript": [
       "require.config({paths: {d3: \"//d3js.org/d3.v4.min\",}}); // Home directory of D3.JS: https://d3js.org/\n",
       "// Original Example: https://bl.ocks.org/mbostock/4062045\n",
       "require([\"d3\"], function(d3) {\n",
       "    window.width = 800,window.height = 1000;\n",
       "    d3.json(\"us.all.json\", function(error, data) {\n",
       "        window.shapefile = data;\n",
       "        if (error) throw error;\n",
       "        window.vertices = [];\n",
       "        var states = {};\n",
       "        shapefile.features.forEach(function(d) { \n",
       "            console.log(d.geometry.type);\n",
       "            var temp = []\n",
       "            var stateName = d.properties.NAME;\n",
       "            if (typeof states[stateName]===\"undefined\") states[stateName] = [];\n",
       "            if (d.geometry.type==\"Polygon\") {\n",
       "                d.geometry.coordinates.forEach(function(e) { e.forEach(function(f) { states[stateName].push(f); vertices.push(f);}) }) \n",
       "            }\n",
       "            else if (d.geometry.type==\"MultiPolygon\") { \n",
       "               d.geometry.coordinates[0].forEach(function(e) { e.forEach(function(f) { states[stateName].push(f); vertices.push(f);}) })  \n",
       "            }\n",
       "\n",
       "            \n",
       "        })\n",
       "\n",
       "    })\n",
       "})"
      ],
      "text/plain": [
       "<IPython.core.display.Javascript object>"
      ]
     },
     "metadata": {},
     "output_type": "display_data"
    }
   ],
   "source": [
    "%%javascript\n",
    "require.config({paths: {d3: \"//d3js.org/d3.v4.min\",}}); // Home directory of D3.JS: https://d3js.org/\n",
    "// Original Example: https://bl.ocks.org/mbostock/4062045\n",
    "require([\"d3\"], function(d3) {\n",
    "    window.width = 800,window.height = 1000;\n",
    "    d3.json(\"us.all.json\", function(error, data) {\n",
    "        window.shapefile = data;\n",
    "        if (error) throw error;\n",
    "        window.vertices = [];\n",
    "        var states = {};\n",
    "        shapefile.features.forEach(function(d) { \n",
    "            var temp = []\n",
    "            var stateName = d.properties.NAME;\n",
    "            if (typeof states[stateName]===\"undefined\") states[stateName] = [];\n",
    "            if (d.geometry.type==\"Polygon\") {\n",
    "                d.geometry.coordinates.forEach(function(e) { e.forEach(function(f) { states[stateName].push(f); vertices.push(f);}) }) \n",
    "            }\n",
    "            else if (d.geometry.type==\"MultiPolygon\") { \n",
    "               d.geometry.coordinates[0].forEach(function(e) { e.forEach(function(f) { states[stateName].push(f); vertices.push(f);}) })  \n",
    "            }\n",
    "        })\n",
    "    })\n",
    "})"
   ]
  },
  {
   "cell_type": "code",
   "execution_count": 163,
   "metadata": {},
   "outputs": [
    {
     "data": {
      "application/javascript": [
       "require.config({paths: {d3: \"//d3js.org/d3.v4.min\",}}); // Home directory of D3.JS: https://d3js.org/\n",
       "// Original Example: https://bl.ocks.org/mbostock/4062045\n",
       "require([\"d3\"], function(d3) {\n",
       "    window.projection = d3.geoMercator();\n",
       "    projection\n",
       "        .scale(1)\n",
       "        .translate([0, 0]);\n",
       "\n",
       "    window.path = d3.geoPath().projection(projection);\n",
       "    var xmin = 10000000000;\n",
       "    var ymin = 10000000000;\n",
       "    var xmax = -10000000000; \n",
       "    var ymax = -10000000000;\n",
       "    vertices.forEach(function(d) { \n",
       "        if (xmin>d[0]) xmin = d[0]; \n",
       "        if (ymin>d[1]) ymin = d[1];\n",
       "        if (xmax<d[0]) xmax = d[0];\n",
       "        if (ymax<d[1]) ymax = d[1];\n",
       "    })\n",
       "    var b = [[Math.min(projection([xmin,ymin])[0],projection([xmax,ymax])[0]),Math.min(projection([xmin,ymin])[1],projection([xmax,ymax])[1])],[Math.max(projection([xmin,ymin])[0],projection([xmax,ymax])[0]),Math.max(projection([xmin,ymin])[1],projection([xmax,ymax])[1])]],\n",
       "        s = .95 / Math.max((b[1][0] - b[0][0]) / width, (b[1][1] - b[0][1]) / height),\n",
       "        t = [(width - s * (b[1][0] + b[0][0])) / 2, (height - s * (b[1][1] + b[0][1])) / 2];\n",
       "\n",
       "    projection\n",
       "        .scale(s)\n",
       "        .translate(t);  \n",
       "})"
      ],
      "text/plain": [
       "<IPython.core.display.Javascript object>"
      ]
     },
     "metadata": {},
     "output_type": "display_data"
    }
   ],
   "source": [
    "%%javascript\n",
    "require.config({paths: {d3: \"//d3js.org/d3.v4.min\",}}); // Home directory of D3.JS: https://d3js.org/\n",
    "// Original Example: https://bl.ocks.org/mbostock/4062045\n",
    "require([\"d3\"], function(d3) {\n",
    "    window.projection = d3.geoMercator(); // https://github.com/d3/d3-geo\n",
    "    projection\n",
    "        .scale(1)\n",
    "        .translate([0, 0]); // https://github.com/d3/d3-geo#projections\n",
    "\n",
    "    window.path = d3.geoPath().projection(projection); // https://github.com/d3/d3-geo#geoPath\n",
    "    \n",
    "    ////////////////////////////////////////////////////////////////\n",
    "    /// Map Scaling Magic\n",
    "    ////////////////////////////////////////////////////////////////\n",
    "    var xmin = 10000000000;\n",
    "    var ymin = 10000000000;\n",
    "    var xmax = -10000000000; \n",
    "    var ymax = -10000000000;\n",
    "    vertices.forEach(function(d) { \n",
    "        if (xmin>d[0]) xmin = d[0]; \n",
    "        if (ymin>d[1]) ymin = d[1];\n",
    "        if (xmax<d[0]) xmax = d[0];\n",
    "        if (ymax<d[1]) ymax = d[1];\n",
    "    })\n",
    "    var b = [[Math.min(projection([xmin,ymin])[0],projection([xmax,ymax])[0]),Math.min(projection([xmin,ymin])[1],projection([xmax,ymax])[1])],[Math.max(projection([xmin,ymin])[0],projection([xmax,ymax])[0]),Math.max(projection([xmin,ymin])[1],projection([xmax,ymax])[1])]],\n",
    "        s = .95 / Math.max((b[1][0] - b[0][0]) / width, (b[1][1] - b[0][1]) / height),\n",
    "        t = [(width - s * (b[1][0] + b[0][0])) / 2, (height - s * (b[1][1] + b[0][1])) / 2];\n",
    "\n",
    "    projection\n",
    "        .scale(s)\n",
    "        .translate(t);  \n",
    "})"
   ]
  },
  {
   "cell_type": "code",
   "execution_count": 164,
   "metadata": {},
   "outputs": [
    {
     "data": {
      "application/javascript": [
       "element.append('<div id=\"graph1\" style=\"min-width: 310px; height: 1000px; margin: 0 auto\"></div>');\n",
       "require.config({paths: {d3: \"//d3js.org/d3.v4.min\",}}); // Home directory of D3.JS: https://d3js.org/\n",
       "// Original Example: https://bl.ocks.org/mbostock/4062045\n",
       "require([\"d3\"], function(d3) {\n",
       "    // Use this to keep the screen clean\n",
       "    d3.select(\"div#graph1\").selectAll(\"*\").remove();    \n",
       "\n",
       "    var svg = d3.select(\"div#graph1\").append(\"svg\")\n",
       "        .attr(\"width\", (width)+\"px\")\n",
       "        .attr(\"height\", (height)+\"px\")\n",
       "    var color = d3.scaleOrdinal(d3.schemeCategory20);\n",
       "    svg.selectAll(\"g\").data(shapefile.features).enter().append(\"g\")\n",
       "    .attr(\"class\", \"states\")\n",
       "\n",
       "    \n",
       "    .append(\"path\")\n",
       "    .attr(\"class\", \"states\")\n",
       "    .style(\"stroke\", \"black\")\n",
       "    .style(\"fill\",\"white\")\n",
       "    .style(\"fill-opacity\",.5)\n",
       "    .attr(\"d\", function(d) { return path(d) })\n",
       "\n",
       "})"
      ],
      "text/plain": [
       "<IPython.core.display.Javascript object>"
      ]
     },
     "metadata": {},
     "output_type": "display_data"
    }
   ],
   "source": [
    "%%javascript\n",
    "element.append('<div id=\"graph1\" style=\"min-width: 310px; height: 1000px; margin: 0 auto\"></div>');\n",
    "require.config({paths: {d3: \"//d3js.org/d3.v4.min\",}}); // Home directory of D3.JS: https://d3js.org/\n",
    "// Original Example: https://bl.ocks.org/mbostock/4062045\n",
    "require([\"d3\"], function(d3) {\n",
    "    // Use this to keep the screen clean\n",
    "    d3.select(\"div#graph1\").selectAll(\"*\").remove();    \n",
    "    // Create SVG\n",
    "    var svg = d3.select(\"div#graph1\").append(\"svg\")\n",
    "        .attr(\"width\", (width)+\"px\")\n",
    "        .attr(\"height\", (height)+\"px\")\n",
    "    // Create Paths from the shapefiles\n",
    "    svg.selectAll(\"g\").data(shapefile.features).enter().append(\"g\")\n",
    "        .attr(\"class\", \"county\")\n",
    "        .append(\"path\")\n",
    "        .attr(\"class\", \"county\")\n",
    "        .style(\"stroke\", \"black\")\n",
    "        .style(\"fill\",\"white\")\n",
    "        .style(\"fill-opacity\",.5)\n",
    "        .attr(\"d\", function(d) { return path(d) })\n",
    "\n",
    "})"
   ]
  },
  {
   "cell_type": "code",
   "execution_count": 173,
   "metadata": {},
   "outputs": [
    {
     "data": {
      "application/javascript": [
       "require.config({paths: {d3: \"//d3js.org/d3.v4.min\",}}); // Home directory of D3.JS: https://d3js.org/\n",
       "// Original Example: https://bl.ocks.org/mbostock/4062045\n",
       "require([\"d3\"], function(d3) {\n",
       "    window.width = 800,window.height = 1000;\n",
       "    d3.json(\"us.all.json\", function(error, data) {\n",
       "        //https://www2.census.gov/geo/docs/reference/state.txt\n",
       "        window.shapefile.features = data.features\n",
       "            .filter(function(d) { return (parseInt(d.properties.STATEFP) == 42) })\n",
       "            //.filter(function(d) { return (parseInt(d.properties.STATEFP) != 2) })\n",
       "            //.filter(function(d) { return (parseInt(d.properties.STATEFP) != 15) });\n",
       "        if (error) throw error;\n",
       "        window.vertices = [];\n",
       "        var states = {};\n",
       "        shapefile.features.forEach(function(d) { \n",
       "            console.log(d.properties)\n",
       "            var temp = []\n",
       "            var stateName = d.properties.GEOID;\n",
       "            if (typeof states[stateName]===\"undefined\") states[stateName] = [];\n",
       "            if (d.geometry.type==\"Polygon\") {\n",
       "                d.geometry.coordinates.forEach(function(e) { e.forEach(function(f) { states[stateName].push(f); vertices.push(f);}) }) \n",
       "            }\n",
       "            else if (d.geometry.type==\"MultiPolygon\") { \n",
       "               d.geometry.coordinates[0].forEach(function(e) { e.forEach(function(f) { states[stateName].push(f); vertices.push(f);}) })  \n",
       "            }\n",
       "\n",
       "            \n",
       "        })\n",
       "\n",
       "    })\n",
       "})"
      ],
      "text/plain": [
       "<IPython.core.display.Javascript object>"
      ]
     },
     "metadata": {},
     "output_type": "display_data"
    }
   ],
   "source": [
    "%%javascript\n",
    "require.config({paths: {d3: \"//d3js.org/d3.v4.min\",}}); // Home directory of D3.JS: https://d3js.org/\n",
    "// Original Example: https://bl.ocks.org/mbostock/4062045\n",
    "require([\"d3\"], function(d3) {\n",
    "    window.width = 800,window.height = 1000;\n",
    "    d3.json(\"us.all.json\", function(error, data) {\n",
    "        //https://www2.census.gov/geo/docs/reference/state.txt\n",
    "        // Used to only caputer PA (STATEFP=42)\n",
    "        window.shapefile.features = data.features\n",
    "            .filter(function(d) { return (parseInt(d.properties.STATEFP) == 42) });\n",
    "        if (error) throw error;\n",
    "        window.vertices = [];\n",
    "        var states = {};\n",
    "        shapefile.features.forEach(function(d) { \n",
    "            console.log(d.properties)\n",
    "            var temp = []\n",
    "            var stateName = d.properties.GEOID;\n",
    "            if (typeof states[stateName]===\"undefined\") states[stateName] = [];\n",
    "            if (d.geometry.type==\"Polygon\") {\n",
    "                d.geometry.coordinates.forEach(function(e) { e.forEach(function(f) { states[stateName].push(f); vertices.push(f);}) }) \n",
    "            }\n",
    "            else if (d.geometry.type==\"MultiPolygon\") { \n",
    "               d.geometry.coordinates[0].forEach(function(e) { e.forEach(function(f) { states[stateName].push(f); vertices.push(f);}) })  \n",
    "            }\n",
    "\n",
    "            \n",
    "        })\n",
    "\n",
    "    })\n",
    "})"
   ]
  },
  {
   "cell_type": "code",
   "execution_count": 174,
   "metadata": {},
   "outputs": [
    {
     "data": {
      "application/javascript": [
       "require.config({paths: {d3: \"//d3js.org/d3.v4.min\",}}); // Home directory of D3.JS: https://d3js.org/\n",
       "// Original Example: https://bl.ocks.org/mbostock/4062045\n",
       "require([\"d3\"], function(d3) {\n",
       "    window.projection = d3.geoMercator();\n",
       "    projection\n",
       "        .scale(1)\n",
       "        .translate([0, 0]);\n",
       "    window.path = d3.geoPath().projection(projection);\n",
       "    var xmin = 10000000000;\n",
       "    var ymin = 10000000000;\n",
       "    var xmax = -10000000000; \n",
       "    var ymax = -10000000000;\n",
       "    vertices.forEach(function(d) { \n",
       "        if (xmin>d[0]) xmin = d[0]; \n",
       "        if (ymin>d[1]) ymin = d[1];\n",
       "        if (xmax<d[0]) xmax = d[0];\n",
       "        if (ymax<d[1]) ymax = d[1];\n",
       "    })\n",
       "    console.log(xmin,ymin,xmax,ymax)\n",
       "    console.log(projection([xmin,ymin]))\n",
       "    var b = [[Math.min(projection([xmin,ymin])[0],projection([xmax,ymax])[0]),Math.min(projection([xmin,ymin])[1],projection([xmax,ymax])[1])],[Math.max(projection([xmin,ymin])[0],projection([xmax,ymax])[0]),Math.max(projection([xmin,ymin])[1],projection([xmax,ymax])[1])]],\n",
       "        s = .95 / Math.max((b[1][0] - b[0][0]) / width, (b[1][1] - b[0][1]) / height),\n",
       "        t = [(width - s * (b[1][0] + b[0][0])) / 2, (height - s * (b[1][1] + b[0][1])) / 2];\n",
       "\n",
       "    projection\n",
       "        .scale(s)\n",
       "        .translate(t);  \n",
       "})"
      ],
      "text/plain": [
       "<IPython.core.display.Javascript object>"
      ]
     },
     "metadata": {},
     "output_type": "display_data"
    }
   ],
   "source": [
    "%%javascript\n",
    "require.config({paths: {d3: \"//d3js.org/d3.v4.min\",}}); // Home directory of D3.JS: https://d3js.org/\n",
    "// Original Example: https://bl.ocks.org/mbostock/4062045\n",
    "require([\"d3\"], function(d3) {\n",
    "    window.projection = d3.geoMercator();\n",
    "    projection\n",
    "        .scale(1)\n",
    "        .translate([0, 0]);\n",
    "    window.path = d3.geoPath().projection(projection);\n",
    "    var xmin = 10000000000;\n",
    "    var ymin = 10000000000;\n",
    "    var xmax = -10000000000; \n",
    "    var ymax = -10000000000;\n",
    "    vertices.forEach(function(d) { \n",
    "        if (xmin>d[0]) xmin = d[0]; \n",
    "        if (ymin>d[1]) ymin = d[1];\n",
    "        if (xmax<d[0]) xmax = d[0];\n",
    "        if (ymax<d[1]) ymax = d[1];\n",
    "    })\n",
    "    console.log(xmin,ymin,xmax,ymax)\n",
    "    console.log(projection([xmin,ymin]))\n",
    "    var b = [[Math.min(projection([xmin,ymin])[0],projection([xmax,ymax])[0]),Math.min(projection([xmin,ymin])[1],projection([xmax,ymax])[1])],[Math.max(projection([xmin,ymin])[0],projection([xmax,ymax])[0]),Math.max(projection([xmin,ymin])[1],projection([xmax,ymax])[1])]],\n",
    "        s = .95 / Math.max((b[1][0] - b[0][0]) / width, (b[1][1] - b[0][1]) / height),\n",
    "        t = [(width - s * (b[1][0] + b[0][0])) / 2, (height - s * (b[1][1] + b[0][1])) / 2];\n",
    "\n",
    "    projection\n",
    "        .scale(s)\n",
    "        .translate(t);  \n",
    "})"
   ]
  },
  {
   "cell_type": "code",
   "execution_count": 175,
   "metadata": {},
   "outputs": [
    {
     "data": {
      "application/javascript": [
       "element.append('<div id=\"graph2\" style=\"min-width: 310px; height: 1000px; margin: 0 auto\"></div>');\n",
       "require.config({paths: {d3: \"//d3js.org/d3.v4.min\",}}); // Home directory of D3.JS: https://d3js.org/\n",
       "// Original Example: https://bl.ocks.org/mbostock/4062045\n",
       "require([\"d3\"], function(d3) {\n",
       "    // Use this to keep the screen clean\n",
       "    d3.select(\"div#graph2\").selectAll(\"*\").remove();    \n",
       "    \n",
       "    var svg = d3.select(\"div#graph2\").append(\"svg\")\n",
       "        .attr(\"width\", (width)+\"px\")\n",
       "        .attr(\"height\", (height)+\"px\")\n",
       "    var color = d3.scaleOrdinal(d3.schemeCategory20);\n",
       "    svg.selectAll(\"g\").data(shapefile.features).enter().append(\"g\")\n",
       "        .attr(\"class\", \"states\")\n",
       "        .append(\"path\")\n",
       "        .attr(\"class\", \"states\")\n",
       "        .style(\"stroke\", \"black\")\n",
       "        .style(\"fill\",\"white\")\n",
       "        .style(\"fill-opacity\",.5)\n",
       "        .attr(\"d\", function(d) { return path(d) })\n",
       "\n",
       "})"
      ],
      "text/plain": [
       "<IPython.core.display.Javascript object>"
      ]
     },
     "metadata": {},
     "output_type": "display_data"
    }
   ],
   "source": [
    "%%javascript\n",
    "element.append('<div id=\"graph2\" style=\"min-width: 310px; height: 1000px; margin: 0 auto\"></div>');\n",
    "require.config({paths: {d3: \"//d3js.org/d3.v4.min\",}}); // Home directory of D3.JS: https://d3js.org/\n",
    "// Original Example: https://bl.ocks.org/mbostock/4062045\n",
    "require([\"d3\"], function(d3) {\n",
    "    // Use this to keep the screen clean\n",
    "    d3.select(\"div#graph2\").selectAll(\"*\").remove();    \n",
    "    \n",
    "    var svg = d3.select(\"div#graph2\").append(\"svg\")\n",
    "        .attr(\"width\", (width)+\"px\")\n",
    "        .attr(\"height\", (height)+\"px\")\n",
    "    svg.selectAll(\"g\").data(shapefile.features).enter().append(\"g\")\n",
    "        .attr(\"class\", \"county\")\n",
    "        .append(\"path\")\n",
    "        .attr(\"class\", \"county\")\n",
    "        .style(\"stroke\", \"black\")\n",
    "        .style(\"fill\",\"white\")\n",
    "        .style(\"fill-opacity\",.5)\n",
    "        .attr(\"d\", function(d) { return path(d) })\n",
    "\n",
    "})"
   ]
  },
  {
   "cell_type": "code",
   "execution_count": 184,
   "metadata": {},
   "outputs": [
    {
     "data": {
      "application/javascript": [
       "require.config({paths: {d3: \"//d3js.org/d3.v4.min\",}}); // Home directory of D3.JS: https://d3js.org/\n",
       "// Original Example: https://bl.ocks.org/mbostock/4062045\n",
       "require([\"d3\"], function(d3) {\n",
       "    window.width = 800,window.height = 1000;\n",
       "    d3.tsv(\"pa.county.pop.txt\", function(error, data) {\n",
       "        // https://pasdc.hbg.psu.edu/\n",
       "        window.population = data.map(function(d){ \n",
       "            console.log(d.Number)\n",
       "            return {FIPS:d.FIPS,population:+d.Number.replace(\",\",\"\").replace(\",\",\"\")}\n",
       "        })\n",
       "        console.log(population)\n",
       "        window.popPerCounty = {}\n",
       "        population.forEach(function(d) {\n",
       "              popPerCounty[d.FIPS] = d.population;\n",
       "        })\n",
       "        console.log(popPerCounty)\n",
       "    })\n",
       "})"
      ],
      "text/plain": [
       "<IPython.core.display.Javascript object>"
      ]
     },
     "metadata": {},
     "output_type": "display_data"
    }
   ],
   "source": [
    "%%javascript\n",
    "require.config({paths: {d3: \"//d3js.org/d3.v4.min\",}}); // Home directory of D3.JS: https://d3js.org/\n",
    "// Original Example: https://bl.ocks.org/mbostock/4062045\n",
    "require([\"d3\"], function(d3) {\n",
    "    window.width = 800,window.height = 1000;\n",
    "    d3.tsv(\"pa.county.pop.txt\", function(error, data) {\n",
    "        // https://pasdc.hbg.psu.edu/\n",
    "        window.population = data.map(function(d){ \n",
    "            console.log(d.Number)\n",
    "            return {FIPS:d.FIPS,population:+d.Number.replace(\",\",\"\").replace(\",\",\"\")}\n",
    "        })\n",
    "        console.log(population)\n",
    "        window.popPerCounty = {}\n",
    "        population.forEach(function(d) {\n",
    "              popPerCounty[d.FIPS] = d.population;\n",
    "        })\n",
    "        console.log(popPerCounty)\n",
    "    })\n",
    "})"
   ]
  },
  {
   "cell_type": "code",
   "execution_count": 225,
   "metadata": {},
   "outputs": [
    {
     "data": {
      "application/javascript": [
       "element.append('<div id=\"graph3\" style=\"min-width: 310px; height: 1000px; margin: 0 auto\"></div>');\n",
       "require.config({ paths: {d3: \"//d3js.org/d3.v4.min\",d3chromatic: \"//d3js.org/d3-scale-chromatic.v1.min\"}})\n",
       "require.config({ shim : {d3 : {exports : 'd3'},d3chromatic : {deps : ['d3'],exports : 'd3chromatic'},}});\n",
       "// Original Example: https://bl.ocks.org/mbostock/4062045\n",
       "require([\"d3\"], function(d3) {\n",
       "    // Use this to keep the screen clean\n",
       "    d3.select(\"div#graph3\").selectAll(\"*\").remove();    \n",
       "    \n",
       "    var svg = d3.select(\"div#graph3\").append(\"svg\")\n",
       "        .attr(\"width\", (width)+\"px\")\n",
       "        .attr(\"height\", (height)+\"px\")\n",
       "    var color = d3.scalePow().exponent(1).range([0,1]).domain(d3.extent(population,function(d) { return d.population }));\n",
       "    var palette = d3.interpolatePlasma; // https://github.com/d3/d3-scale-chromatic\n",
       "    svg.selectAll(\"g\").data(shapefile.features).enter().append(\"g\")\n",
       "        .attr(\"class\", \"county\")\n",
       "        .append(\"path\")\n",
       "        .attr(\"class\", \"county\")\n",
       "        .style(\"stroke\", \"black\")\n",
       "        .style(\"fill\", function(d) { return palette(color(popPerCounty[d.properties.GEOID])) })\n",
       "        .style(\"fill-opacity\",.5)\n",
       "        .attr(\"d\", function(d) { return path(d) })\n",
       "\n",
       "})"
      ],
      "text/plain": [
       "<IPython.core.display.Javascript object>"
      ]
     },
     "metadata": {},
     "output_type": "display_data"
    }
   ],
   "source": [
    "%%javascript\n",
    "element.append('<div id=\"graph3\" style=\"min-width: 310px; height: 1000px; margin: 0 auto\"></div>');\n",
    "require.config({ paths: {d3: \"//d3js.org/d3.v4.min\",d3chromatic: \"//d3js.org/d3-scale-chromatic.v1.min\"}})\n",
    "require.config({ shim : {d3 : {exports : 'd3'},d3chromatic : {deps : ['d3'],exports : 'd3chromatic'},}});\n",
    "// Original Example: https://bl.ocks.org/mbostock/4062045\n",
    "require([\"d3\"], function(d3) {\n",
    "    // Use this to keep the screen clean\n",
    "    d3.select(\"div#graph3\").selectAll(\"*\").remove();    \n",
    "    \n",
    "    var svg = d3.select(\"div#graph3\").append(\"svg\")\n",
    "        .attr(\"width\", (width)+\"px\")\n",
    "        .attr(\"height\", (height)+\"px\")\n",
    "    var color = d3.scalePow().exponent(1).range([0,1]).domain(d3.extent(population,function(d) { return d.population }));\n",
    "    var palette = d3.interpolatePlasma; // https://github.com/d3/d3-scale-chromatic\n",
    "    svg.selectAll(\"g\").data(shapefile.features).enter().append(\"g\")\n",
    "        .attr(\"class\", \"county\")\n",
    "        .append(\"path\")\n",
    "        .attr(\"class\", \"county\")\n",
    "        .style(\"stroke\", \"black\")\n",
    "        .style(\"fill\", function(d) { return palette(color(popPerCounty[d.properties.GEOID])) })\n",
    "        .style(\"fill-opacity\",.5)\n",
    "        .attr(\"d\", function(d) { return path(d) })\n",
    "    \n",
    "    // Legend? \n",
    "    // http://d3-legend.susielu.com/\n",
    "\n",
    "})"
   ]
  },
  {
   "cell_type": "code",
   "execution_count": 206,
   "metadata": {},
   "outputs": [
    {
     "data": {
      "application/javascript": [
       "require.config({paths: {d3: \"//d3js.org/d3.v4.min\",}}); // Home directory of D3.JS: https://d3js.org/\n",
       "// Original Example: https://bl.ocks.org/mbostock/4062045\n",
       "require([\"d3\"], function(d3) {\n",
       "    window.width = 800,window.height = 1000;\n",
       "    d3.json(\"//maps.googleapis.com/maps/api/geocode/json?address=Althouse%20Laboratory,%20State%20College,%20PA%2016801\", function(error, point) {\n",
       "        console.log(point);\n",
       "        console.log(point.results[0].geometry.location);\n",
       "        var lat = point.results[0].geometry.location.lat;\n",
       "        var lng = point.results[0].geometry.location.lng;\n",
       "        window.statecollege = projection([lng,lat]);\n",
       "        console.log(statecollege);\n",
       "\n",
       "    })\n",
       "})"
      ],
      "text/plain": [
       "<IPython.core.display.Javascript object>"
      ]
     },
     "metadata": {},
     "output_type": "display_data"
    }
   ],
   "source": [
    "%%javascript\n",
    "require.config({paths: {d3: \"//d3js.org/d3.v4.min\",}}); // Home directory of D3.JS: https://d3js.org/\n",
    "// Using Google Maps API to get Lat/Lng from address\n",
    "require([\"d3\"], function(d3) {\n",
    "    d3.json(\"//maps.googleapis.com/maps/api/geocode/json?address=Althouse%20Laboratory,%20State%20College,%20PA%2016801\", function(error, point) {\n",
    "        console.log(point);\n",
    "        console.log(point.results[0].geometry.location);\n",
    "        var lat = point.results[0].geometry.location.lat;\n",
    "        var lng = point.results[0].geometry.location.lng;\n",
    "        window.statecollege = projection([lng,lat]);\n",
    "    })\n",
    "})\n"
   ]
  },
  {
   "cell_type": "code",
   "execution_count": 226,
   "metadata": {},
   "outputs": [
    {
     "data": {
      "application/javascript": [
       "element.append('<div id=\"graph4\" style=\"min-width: 310px; height: 1000px; margin: 0 auto\"></div>');\n",
       "require.config({ paths: {d3: \"//d3js.org/d3.v4.min\",d3chromatic: \"//d3js.org/d3-scale-chromatic.v1.min\"}})\n",
       "require.config({ shim : {d3 : {exports : 'd3'},d3chromatic : {deps : ['d3'],exports : 'd3chromatic'},}});\n",
       "// Adding a point on the map to mark our location\n",
       "require([\"d3\"], function(d3) {\n",
       "    // Use this to keep the screen clean\n",
       "    d3.select(\"div#graph4\").selectAll(\"*\").remove();    \n",
       "    \n",
       "    var svg = d3.select(\"div#graph4\").append(\"svg\")\n",
       "        .attr(\"width\", (width)+\"px\")\n",
       "        .attr(\"height\", (height)+\"px\")\n",
       "    var color = d3.scalePow().exponent(.5).range([0,1]).domain(d3.extent(population,function(d) { return d.population }));\n",
       "    var palette = d3.interpolatePlasma; // https://github.com/d3/d3-scale-chromatic\n",
       "    svg.selectAll(\"g.county\").data(shapefile.features).enter().append(\"g\")\n",
       "        .attr(\"class\", \"county\")\n",
       "        .append(\"path\")\n",
       "        .attr(\"class\", \"county\")\n",
       "        .style(\"stroke\", \"black\")\n",
       "        .style(\"fill\", function(d) { return palette(color(popPerCounty[d.properties.GEOID])) })\n",
       "        .style(\"fill-opacity\",.5)\n",
       "        .attr(\"d\", function(d) { return path(d) })\n",
       "    var locations = [];\n",
       "    locations.push(statecollege)\n",
       "    svg.selectAll(\"g.statecollege\").data(locations).enter().append(\"g\")\n",
       "        .attr(\"class\", \"statecollege\")\n",
       "        .append(\"circle\")\n",
       "        .attr(\"class\", \"statecollege\")\n",
       "        .style(\"stroke\", \"black\")\n",
       "        .style(\"stroke-width\", \"2px\")\n",
       "        .style(\"fill\", \"black\")\n",
       "        .style(\"fill-opacity\",.5)\n",
       "        .attr(\"cx\", function(d) {console.log(d[0]); return d[0] })\n",
       "        .attr(\"cy\", function(d) { return d[1] })\n",
       "        .attr(\"r\", 5)\n",
       "})"
      ],
      "text/plain": [
       "<IPython.core.display.Javascript object>"
      ]
     },
     "metadata": {},
     "output_type": "display_data"
    }
   ],
   "source": [
    "%%javascript\n",
    "element.append('<div id=\"graph4\" style=\"min-width: 310px; height: 1000px; margin: 0 auto\"></div>');\n",
    "require.config({ paths: {d3: \"//d3js.org/d3.v4.min\",d3chromatic: \"//d3js.org/d3-scale-chromatic.v1.min\"}})\n",
    "require.config({ shim : {d3 : {exports : 'd3'},d3chromatic : {deps : ['d3'],exports : 'd3chromatic'},}});\n",
    "// Adding a point on the map to mark our location\n",
    "require([\"d3\"], function(d3) {\n",
    "    // Use this to keep the screen clean\n",
    "    d3.select(\"div#graph4\").selectAll(\"*\").remove();    \n",
    "    \n",
    "    var svg = d3.select(\"div#graph4\").append(\"svg\")\n",
    "        .attr(\"width\", (width)+\"px\")\n",
    "        .attr(\"height\", (height)+\"px\")\n",
    "    var color = d3.scalePow().exponent(.5).range([0,1]).domain(d3.extent(population,function(d) { return d.population }));\n",
    "    var palette = d3.interpolatePlasma; // https://github.com/d3/d3-scale-chromatic\n",
    "    svg.selectAll(\"g.county\").data(shapefile.features).enter().append(\"g\")\n",
    "        .attr(\"class\", \"county\")\n",
    "        .append(\"path\")\n",
    "        .attr(\"class\", \"county\")\n",
    "        .style(\"stroke\", \"black\")\n",
    "        .style(\"fill\", function(d) { return palette(color(popPerCounty[d.properties.GEOID])) })\n",
    "        .style(\"fill-opacity\",.5)\n",
    "        .attr(\"d\", function(d) { return path(d) })\n",
    "    var locations = []; // used to caputer all points we would like to have on our map\n",
    "    locations.push(statecollege); // in this case there is only the one, but more could be added.\n",
    "    svg.selectAll(\"g.statecollege\").data(locations).enter().append(\"g\")\n",
    "        .attr(\"class\", \"statecollege\")\n",
    "        .append(\"circle\")\n",
    "        .attr(\"class\", \"statecollege\")\n",
    "        .style(\"stroke\", \"black\")\n",
    "        .style(\"stroke-width\", \"2px\")\n",
    "        .style(\"fill\", \"black\")\n",
    "        .style(\"fill-opacity\",.5)\n",
    "        .attr(\"cx\", function(d) {console.log(d[0]); return d[0] })\n",
    "        .attr(\"cy\", function(d) { return d[1] })\n",
    "        .attr(\"r\", 5)\n",
    "})"
   ]
  }
 ],
 "metadata": {
  "kernelspec": {
   "display_name": "Python 2",
   "language": "python",
   "name": "python2"
  },
  "language_info": {
   "codemirror_mode": {
    "name": "ipython",
    "version": 2
   },
   "file_extension": ".py",
   "mimetype": "text/x-python",
   "name": "python",
   "nbconvert_exporter": "python",
   "pygments_lexer": "ipython2",
   "version": "2.7.14"
  }
 },
 "nbformat": 4,
 "nbformat_minor": 2
}
