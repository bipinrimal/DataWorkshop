{
 "cells": [
  {
   "cell_type": "code",
   "execution_count": 18,
   "metadata": {
    "slideshow": {
     "slide_type": "skip"
    }
   },
   "outputs": [
    {
     "data": {
      "text/html": [
       "<style>\n",
       ".output {\n",
       "    margin: auto;\n",
       "    width: 50%;\n",
       "}\n",
       "</style>"
      ],
      "text/plain": [
       "<IPython.core.display.HTML object>"
      ]
     },
     "metadata": {},
     "output_type": "display_data"
    }
   ],
   "source": [
    "from IPython.display import IFrame,HTML\n",
    "mycss=\"\"\"\n",
    ".output {\n",
    "    margin: auto;\n",
    "    width: 50%;\n",
    "}\n",
    "\"\"\"\n",
    "display(HTML('<style>{}</style>'.format(mycss)))"
   ]
  },
  {
   "cell_type": "code",
   "execution_count": 19,
   "metadata": {
    "scrolled": true,
    "slideshow": {
     "slide_type": "slide"
    }
   },
   "outputs": [
    {
     "data": {
      "text/html": [
       "\n",
       "        <iframe\n",
       "            width=\"1280\"\n",
       "            height=\"720\"\n",
       "            src=\"https://docs.google.com/presentation/d/e/2PACX-1vTM24T0cTqLnAT896Ih2mwPnSxdbYMRD_e4x6YEg5jgXcNezWZhzUkN9fdsxtC-d3we2kj-CPP4Spgj/embed?slide=id.p?align=center\"\n",
       "            frameborder=\"0\"\n",
       "            allowfullscreen\n",
       "        ></iframe>\n",
       "        "
      ],
      "text/plain": [
       "<IPython.lib.display.IFrame at 0x49b7240>"
      ]
     },
     "execution_count": 19,
     "metadata": {},
     "output_type": "execute_result"
    }
   ],
   "source": [
    "from IPython.display import IFrame,HTML\n",
    "IFrame('https://docs.google.com/presentation/d/e/2PACX-1vTM24T0cTqLnAT896Ih2mwPnSxdbYMRD_e4x6YEg5jgXcNezWZhzUkN9fdsxtC-d3we2kj-CPP4Spgj/embed?slide=id.p', width=1280, height=720,align=\"center\")"
   ]
  },
  {
   "cell_type": "code",
   "execution_count": 20,
   "metadata": {
    "slideshow": {
     "slide_type": "slide"
    }
   },
   "outputs": [
    {
     "data": {
      "text/html": [
       "\n",
       "        <iframe\n",
       "            width=\"1200\"\n",
       "            height=\"900\"\n",
       "            src=\"Visual-vocabulary.pdf\"\n",
       "            frameborder=\"0\"\n",
       "            allowfullscreen\n",
       "        ></iframe>\n",
       "        "
      ],
      "text/plain": [
       "<IPython.lib.display.IFrame at 0x49b71d0>"
      ]
     },
     "execution_count": 20,
     "metadata": {},
     "output_type": "execute_result"
    }
   ],
   "source": [
    "from IPython.display import IFrame\n",
    "## https://github.com/ft-interactive\n",
    "IFrame(\"Visual-vocabulary.pdf\", width=1200, height=900)"
   ]
  },
  {
   "cell_type": "markdown",
   "metadata": {
    "slideshow": {
     "slide_type": "slide"
    }
   },
   "source": [
    "Some links that might be important <br>\n",
    "[Link to presentation code on github](https://github.com/dudaspm) <br>\n",
    "[Link to RISE (PowerPoint like add-on)](https://github.com/damianavila/RISE) <br>\n"
   ]
  },
  {
   "cell_type": "code",
   "execution_count": 21,
   "metadata": {
    "slideshow": {
     "slide_type": "slide"
    }
   },
   "outputs": [
    {
     "data": {
      "text/html": [
       "<center>\n",
       "<video width=\"1280\" height=\"720\" controls>\n",
       "  <source src=\"remove/all.dates.mp4\" type=\"video/mp4\">\n",
       "</video>\n",
       "</center>"
      ],
      "text/plain": [
       "<IPython.core.display.HTML object>"
      ]
     },
     "metadata": {},
     "output_type": "display_data"
    }
   ],
   "source": [
    "%%HTML\n",
    "<center>\n",
    "<video width=\"1280\" height=\"720\" controls>\n",
    "  <source src=\"remove/all.dates.mp4\" type=\"video/mp4\">\n",
    "</video>\n",
    "</center>"
   ]
  },
  {
   "cell_type": "code",
   "execution_count": 22,
   "metadata": {
    "slideshow": {
     "slide_type": "slide"
    }
   },
   "outputs": [
    {
     "data": {
      "application/javascript": [
       "window.data=[2,3,6,19,23,35]"
      ],
      "text/plain": [
       "<IPython.core.display.Javascript object>"
      ]
     },
     "execution_count": 22,
     "metadata": {},
     "output_type": "execute_result"
    }
   ],
   "source": [
    "from IPython.display import HTML\n",
    "from IPython.display import Javascript\n",
    "Javascript(\"window.data=[2,3,6,19,23,35]\") #Our dataset, called data (original, huh?)"
   ]
  },
  {
   "cell_type": "code",
   "execution_count": 23,
   "metadata": {
    "slideshow": {
     "slide_type": "slide"
    }
   },
   "outputs": [
    {
     "data": {
      "text/html": [
       "\n",
       "<html>\n",
       "    <head>\n",
       "        <title>I am a webpage</title>\n",
       "    </head>\n",
       "    <body>\n",
       "        text\n",
       "        <div id=\"visualization_here\"></div>\n",
       "    </body>\n",
       "</html>\n"
      ],
      "text/plain": [
       "<IPython.core.display.HTML object>"
      ]
     },
     "execution_count": 23,
     "metadata": {},
     "output_type": "execute_result"
    }
   ],
   "source": [
    "HTML(\"\"\"\n",
    "<html>\n",
    "    <head>\n",
    "        <title>I am a webpage</title>\n",
    "    </head>\n",
    "    <body>\n",
    "        text\n",
    "        <div id=\"visualization_here\"></div>\n",
    "    </body>\n",
    "</html>\n",
    "\"\"\")\n"
   ]
  },
  {
   "cell_type": "code",
   "execution_count": 24,
   "metadata": {
    "slideshow": {
     "slide_type": "slide"
    }
   },
   "outputs": [
    {
     "data": {
      "text/html": [
       "\n",
       "<html>\n",
       "    <head>\n",
       "        \n",
       "    </header>\n",
       "    <ody>\n",
       "        <div id=\"visualization_here\">some text</DIV>\n",
       "    </body\n",
       "</htmld>\n"
      ],
      "text/plain": [
       "<IPython.core.display.HTML object>"
      ]
     },
     "execution_count": 24,
     "metadata": {},
     "output_type": "execute_result"
    }
   ],
   "source": [
    "HTML(\"\"\"\n",
    "<html>\n",
    "    <head>\n",
    "        \n",
    "    </header>\n",
    "    <ody>\n",
    "        <div id=\"visualization_here\">some text</DIV>\n",
    "    </body\n",
    "</htmld>\n",
    "\"\"\")"
   ]
  },
  {
   "cell_type": "markdown",
   "metadata": {
    "slideshow": {
     "slide_type": "slide"
    }
   },
   "source": [
    "<?xml version=\"1.0\"?>\n",
    "<note>\n",
    "    <to>Tove</to>\n",
    "    <from>Jani</from>\n",
    "    <heading>Reminder</heading>\n",
    "    <message>Don't forget me this weekend!</message>\n",
    "</note>"
   ]
  },
  {
   "cell_type": "code",
   "execution_count": 25,
   "metadata": {
    "slideshow": {
     "slide_type": "slide"
    }
   },
   "outputs": [
    {
     "data": {
      "text/html": [
       "\n",
       "<html>\n",
       "    <head>\n",
       "        <title>I am a webpage</title>\n",
       "    </head>\n",
       "    <body>\n",
       "        <svg xmlns=\"http://www.w3.org/2000/svg\" version=\"1.1\" width=\"400\" height=\"400\">\n",
       "            <polygon points=\"200,10 250,190 160,210\" style=\"fill:lime;stroke:purple;stroke-width:1\"/>\n",
       "        </svg>\n",
       "    </body>\n",
       "</html>\n"
      ],
      "text/plain": [
       "<IPython.core.display.HTML object>"
      ]
     },
     "execution_count": 25,
     "metadata": {},
     "output_type": "execute_result"
    }
   ],
   "source": [
    "HTML(\"\"\"\n",
    "<html>\n",
    "    <head>\n",
    "        <title>I am a webpage</title>\n",
    "    </head>\n",
    "    <body>\n",
    "        <svg xmlns=\"http://www.w3.org/2000/svg\" version=\"1.1\" width=\"400\" height=\"400\">\n",
    "            <polygon points=\"200,10 250,190 160,210\" style=\"fill:lime;stroke:purple;stroke-width:1\"/>\n",
    "        </svg>\n",
    "    </body>\n",
    "</html>\n",
    "\"\"\")"
   ]
  },
  {
   "cell_type": "code",
   "execution_count": 26,
   "metadata": {
    "slideshow": {
     "slide_type": "slide"
    }
   },
   "outputs": [
    {
     "data": {
      "application/javascript": [
       "element.append('<div id=\"visualization\" style=\"min-width: 310px; height: 400px; margin: 0 auto\"></div>');\n",
       "require.config({paths: {d3: \"//d3js.org/d3.v4.min\",}});\n",
       "\n",
       "require([\"d3\"], function(d3) {\n",
       "\n",
       "    var vis = d3.selectAll(\"div#visualization\")\n",
       "\n",
       "    // Append the SVG container or the root\n",
       "    var SVG_container = vis.append(\"svg:svg\")\n",
       "        .attr(\"width\", \"400\")\n",
       "        .attr(\"height\", \"400\");\n",
       "\n",
       "    // Now just append the polygon to SVG container or root\t\n",
       "    SVG_container.append(\"polygon\")\n",
       "        .attr(\"points\", \"200,10 250,190 160,210\")\n",
       "        .style(\"fill\", \"lime\")\n",
       "        .style(\"stroke\", \"purple\")\n",
       "        .style(\"stroke-width\", \"1px\");\n",
       "})"
      ],
      "text/plain": [
       "<IPython.core.display.Javascript object>"
      ]
     },
     "metadata": {},
     "output_type": "display_data"
    }
   ],
   "source": [
    "%%javascript\n",
    "element.append('<div id=\"visualization\" style=\"min-width: 310px; height: 400px; margin: 0 auto\"></div>');\n",
    "require.config({paths: {d3: \"//d3js.org/d3.v4.min\",}});\n",
    "\n",
    "require([\"d3\"], function(d3) {\n",
    "\n",
    "    var vis = d3.selectAll(\"div#visualization\")\n",
    "\n",
    "    // Append the SVG container or the root\n",
    "    var SVG_container = vis.append(\"svg:svg\")\n",
    "        .attr(\"width\", \"400\")\n",
    "        .attr(\"height\", \"400\");\n",
    "\n",
    "    // Now just append the polygon to SVG container or root\t\n",
    "    SVG_container.append(\"polygon\")\n",
    "        .attr(\"points\", \"200,10 250,190 160,210\")\n",
    "        .style(\"fill\", \"lime\")\n",
    "        .style(\"stroke\", \"purple\")\n",
    "        .style(\"stroke-width\", \"1px\");\n",
    "})"
   ]
  },
  {
   "cell_type": "code",
   "execution_count": 27,
   "metadata": {
    "slideshow": {
     "slide_type": "slide"
    }
   },
   "outputs": [
    {
     "data": {
      "application/javascript": [
       "// First add a place for our visualization\n",
       "element.append('<div id=\"container\" style=\"min-width: 310px; height: 400px; margin: 0 auto\"></div>');"
      ],
      "text/plain": [
       "<IPython.core.display.Javascript object>"
      ]
     },
     "metadata": {},
     "output_type": "display_data"
    }
   ],
   "source": [
    "%%javascript\n",
    "// First add a place for our visualization\n",
    "element.append('<div id=\"container\" style=\"min-width: 310px; height: 400px; margin: 0 auto\"></div>');"
   ]
  },
  {
   "cell_type": "code",
   "execution_count": 28,
   "metadata": {
    "slideshow": {
     "slide_type": "slide"
    }
   },
   "outputs": [],
   "source": [
    "# Note to self: move back to slides\n"
   ]
  },
  {
   "cell_type": "code",
   "execution_count": 29,
   "metadata": {
    "slideshow": {
     "slide_type": "slide"
    }
   },
   "outputs": [
    {
     "data": {
      "application/javascript": [
       "element.append('<div id=\"graph1\" style=\"min-width: 310px; height: 400px; margin: 0 auto\"></div>');\n",
       "require.config({paths: {d3: \"//d3js.org/d3.v4.min\",}}); // Home directory of D3.JS: https://d3js.org/\n",
       "\n",
       "require([\"d3\"], function(d3) {\n",
       "\n",
       "    // Use this to keep the screen clean\n",
       "   d3.select(\"div#graph1\").selectAll(\"*\").remove();\n",
       "    \n",
       "    // Same as example 5, just condensed \n",
       "    var vis = d3.select(\"div#graph1\").append(\"svg\")\n",
       "        .attr(\"width\", \"400px\")\n",
       "        .attr(\"height\", \"400px\");\n",
       "\n",
       "    // Update the data with circleData! \n",
       "    // Demo of SVG Circle: https://www.w3schools.com/graphics/svg_circle.asp\n",
       "    var newCircles = vis.selectAll(\"circle\").data(data);\n",
       "    // Nothing happens at this point because the data is not entered yet\n",
       "    // So let's enter the data and use it to position (cx,cy) and size (r) the circles\n",
       "    newCircles.enter().append(\"circle\")\n",
       "        .attr(\"cx\", function(apple) { return apple; })\n",
       "        .attr(\"cy\", function(d) { return d; })\n",
       "        .attr(\"r\", function(d) { return d; });\n",
       "\n",
       "})"
      ],
      "text/plain": [
       "<IPython.core.display.Javascript object>"
      ]
     },
     "metadata": {},
     "output_type": "display_data"
    }
   ],
   "source": [
    "%%javascript\n",
    "element.append('<div id=\"graph1\" style=\"min-width: 310px; height: 400px; margin: 0 auto\"></div>');\n",
    "require.config({paths: {d3: \"//d3js.org/d3.v4.min\",}}); // Home directory of D3.JS: https://d3js.org/\n",
    "\n",
    "require([\"d3\"], function(d3) {\n",
    "\n",
    "    // Use this to keep the screen clean\n",
    "   d3.select(\"div#graph1\").selectAll(\"*\").remove();\n",
    "    \n",
    "    // Same as example 5, just condensed \n",
    "    var vis = d3.select(\"div#graph1\").append(\"svg\")\n",
    "        .attr(\"width\", \"400px\")\n",
    "        .attr(\"height\", \"400px\");\n",
    "\n",
    "    // Update the data with circleData! \n",
    "    // Demo of SVG Circle: https://www.w3schools.com/graphics/svg_circle.asp\n",
    "    var newCircles = vis.selectAll(\"circle\").data(data);\n",
    "    // Nothing happens at this point because the data is not entered yet\n",
    "    // So let's enter the data and use it to position (cx,cy) and size (r) the circles\n",
    "    newCircles.enter().append(\"circle\")\n",
    "        .attr(\"cx\", function(apple) { return apple; })\n",
    "        .attr(\"cy\", function(d) { return d; })\n",
    "        .attr(\"r\", function(d) { return d; });\n",
    "\n",
    "})"
   ]
  },
  {
   "cell_type": "code",
   "execution_count": 30,
   "metadata": {
    "slideshow": {
     "slide_type": "slide"
    }
   },
   "outputs": [
    {
     "data": {
      "application/javascript": [
       "element.append('<div id=\"graph2\" style=\"min-width: 310px; height: 400px; margin: 0 auto\"></div>');\n",
       "\n",
       "require.config({paths: {d3: \"//d3js.org/d3.v4.min\",}});\n",
       "\n",
       "require([\"d3\"], function(d3) {\n",
       "\n",
       "    // Use this to keep the screen clean\n",
       "   d3.select(\"div#graph2\").selectAll(\"*\").remove();\n",
       "    \n",
       "    // Same as example 5, just condensed \n",
       "    var vis = d3.select(\"div#graph2\").append(\"svg\")\n",
       "        .attr(\"width\", \"400px\")\n",
       "        .attr(\"height\", \"400px\");\n",
       "    \n",
       "    // Update the data with circleData! \t\n",
       "    var newCircles = vis.selectAll(\"circle\").data(data);\n",
       "    // Nothing happens at this point because the data is not entered yet\n",
       "    // So let's enter the data and use it to position (cx,cy) and size (r) the circles\n",
       "    newCircles.enter().append(\"circle\")\n",
       "        .attr(\"cx\", function(d,i) { return d*5; })\n",
       "        .attr(\"cy\", function(d) { return d*5; })\n",
       "        .attr(\"r\", function(d) { return d; })\n",
       "\n",
       "})"
      ],
      "text/plain": [
       "<IPython.core.display.Javascript object>"
      ]
     },
     "metadata": {},
     "output_type": "display_data"
    }
   ],
   "source": [
    "%%javascript\n",
    "element.append('<div id=\"graph2\" style=\"min-width: 310px; height: 400px; margin: 0 auto\"></div>');\n",
    "\n",
    "require.config({paths: {d3: \"//d3js.org/d3.v4.min\",}});\n",
    "\n",
    "require([\"d3\"], function(d3) {\n",
    "\n",
    "    // Use this to keep the screen clean\n",
    "   d3.select(\"div#graph2\").selectAll(\"*\").remove();\n",
    "    \n",
    "    // Same as example 5, just condensed \n",
    "    var vis = d3.select(\"div#graph2\").append(\"svg\")\n",
    "        .attr(\"width\", \"400px\")\n",
    "        .attr(\"height\", \"400px\");\n",
    "    \n",
    "    // Update the data with circleData! \t\n",
    "    var newCircles = vis.selectAll(\"circle\").data(data);\n",
    "    // Nothing happens at this point because the data is not entered yet\n",
    "    // So let's enter the data and use it to position (cx,cy) and size (r) the circles\n",
    "    newCircles.enter().append(\"circle\")\n",
    "        .attr(\"cx\", function(d,i) { return d*5; })\n",
    "        .attr(\"cy\", function(d) { return d*5; })\n",
    "        .attr(\"r\", function(d) { return d; })\n",
    "\n",
    "})"
   ]
  },
  {
   "cell_type": "code",
   "execution_count": 31,
   "metadata": {
    "slideshow": {
     "slide_type": "slide"
    }
   },
   "outputs": [
    {
     "data": {
      "application/javascript": [
       "element.append('<div id=\"graph3\" style=\"min-width: 310px; height: 400px; margin: 0 auto\"></div>');\n",
       "require.config({paths: {d3: \"//d3js.org/d3.v4.min\",}});\n",
       "\n",
       "require([\"d3\"], function(d3) {\n",
       "\n",
       "    // Use this to keep the screen clean\n",
       "    d3.select(\"div#graph3\").selectAll(\"*\").remove();\n",
       "    \n",
       "    var width = 400, height = 400;\n",
       "    var x = d3.scaleLinear().range([0, width-50]).domain(d3.extent(data)); // Additional details on Scales: https://github.com/d3/d3-scale\n",
       "    var y = d3.scaleLinear().range([height, 50]).domain(d3.extent(data));\n",
       "\n",
       "    var vis = d3.select(\"div#graph3\").append(\"svg\")\n",
       "        .attr(\"width\", width+\"px\")\n",
       "        .attr(\"height\", height+\"px\");\n",
       "    \n",
       "    // Update the data with circleData! \t\n",
       "    var newCircles = vis.selectAll(\"circle\").data(data);\n",
       "\n",
       "    // Nothing happens at this point because the data is not entered yet\n",
       "    // So let's enter the data and use it to position (cx,cy) and size (r) the circles\n",
       "    newCircles.enter().append(\"circle\")\n",
       "        .attr(\"cx\", function(d) { return x(d); })\n",
       "        .attr(\"cy\", function(d) { return y(d); })\n",
       "        .attr(\"r\", function(d) { return d; })\n",
       "})"
      ],
      "text/plain": [
       "<IPython.core.display.Javascript object>"
      ]
     },
     "metadata": {},
     "output_type": "display_data"
    }
   ],
   "source": [
    "%%javascript\n",
    "element.append('<div id=\"graph3\" style=\"min-width: 310px; height: 400px; margin: 0 auto\"></div>');\n",
    "require.config({paths: {d3: \"//d3js.org/d3.v4.min\",}});\n",
    "\n",
    "require([\"d3\"], function(d3) {\n",
    "\n",
    "    // Use this to keep the screen clean\n",
    "    d3.select(\"div#graph3\").selectAll(\"*\").remove();\n",
    "    \n",
    "    var width = 400, height = 400;\n",
    "    var x = d3.scaleLinear().range([0, width-50]).domain(d3.extent(data)); // Additional details on Scales: https://github.com/d3/d3-scale\n",
    "    var y = d3.scaleLinear().range([height, 50]).domain(d3.extent(data));\n",
    "\n",
    "    var vis = d3.select(\"div#graph3\").append(\"svg\")\n",
    "        .attr(\"width\", width+\"px\")\n",
    "        .attr(\"height\", height+\"px\");\n",
    "    \n",
    "    // Update the data with circleData! \t\n",
    "    var newCircles = vis.selectAll(\"circle\").data(data);\n",
    "\n",
    "    // Nothing happens at this point because the data is not entered yet\n",
    "    // So let's enter the data and use it to position (cx,cy) and size (r) the circles\n",
    "    newCircles.enter().append(\"circle\")\n",
    "        .attr(\"cx\", function(d) { return x(d); })\n",
    "        .attr(\"cy\", function(d) { return y(d); })\n",
    "        .attr(\"r\", function(d) { return d; })\n",
    "})"
   ]
  },
  {
   "cell_type": "code",
   "execution_count": 32,
   "metadata": {
    "slideshow": {
     "slide_type": "slide"
    }
   },
   "outputs": [
    {
     "data": {
      "application/javascript": [
       "element.append('<div id=\"graph4\" style=\"min-width: 310px; height: 400px; margin: 0 auto\"></div>');\n",
       "require.config({paths: {d3: \"//d3js.org/d3.v4.min\",}});\n",
       "\n",
       "require([\"d3\"], function(d3) {\n",
       "\n",
       "    // Use this to keep the screen clean\n",
       "    d3.select(\"div#graph4\").selectAll(\"*\").remove();\n",
       "    \n",
       "    var width = 400, height = 400;\n",
       "    var color = d3.scaleOrdinal(d3.schemeCategory10); // Additional details on Color: https://github.com/d3/d3-scale-chromatic\n",
       "    var x = d3.scaleLinear().range([0, width-50]).domain(d3.extent(data));\n",
       "    var y = d3.scaleLinear().range([height, 50]).domain(d3.extent(data));    \n",
       "    \n",
       "    var vis = d3.select(\"div#graph4\").append(\"svg\")\n",
       "        .attr(\"width\", width+\"px\")\n",
       "        .attr(\"height\", height+\"px\");\n",
       "    \n",
       "    // Update the data with circleData!\n",
       "    var newCircles = vis.selectAll(\"circle\").data(data);\n",
       "\n",
       "    // Nothing happens at this point because the data is not entered yet\n",
       "    // So let's enter the data and use it to position (cx,cy) and size (r) the circles\n",
       "    newCircles.enter().append(\"circle\")\n",
       "        .attr(\"cx\", function(d) { return x(d); })\n",
       "        .attr(\"cy\", function(d) { return y(d); })\n",
       "        .attr(\"r\", function(d) { return d; })\n",
       "        .style(\"fill\", function(d,i) { return color(i); })\n",
       "})"
      ],
      "text/plain": [
       "<IPython.core.display.Javascript object>"
      ]
     },
     "metadata": {},
     "output_type": "display_data"
    }
   ],
   "source": [
    "%%javascript\n",
    "element.append('<div id=\"graph4\" style=\"min-width: 310px; height: 400px; margin: 0 auto\"></div>');\n",
    "require.config({paths: {d3: \"//d3js.org/d3.v4.min\",}});\n",
    "\n",
    "require([\"d3\"], function(d3) {\n",
    "\n",
    "    // Use this to keep the screen clean\n",
    "    d3.select(\"div#graph4\").selectAll(\"*\").remove();\n",
    "    \n",
    "    var width = 400, height = 400;\n",
    "    var color = d3.scaleOrdinal(d3.schemeCategory10); // Additional details on Color: https://github.com/d3/d3-scale-chromatic\n",
    "    var x = d3.scaleLinear().range([0, width-50]).domain(d3.extent(data));\n",
    "    var y = d3.scaleLinear().range([height, 50]).domain(d3.extent(data));    \n",
    "    \n",
    "    var vis = d3.select(\"div#graph4\").append(\"svg\")\n",
    "        .attr(\"width\", width+\"px\")\n",
    "        .attr(\"height\", height+\"px\");\n",
    "    \n",
    "    // Update the data with circleData!\n",
    "    var newCircles = vis.selectAll(\"circle\").data(data);\n",
    "\n",
    "    // Nothing happens at this point because the data is not entered yet\n",
    "    // So let's enter the data and use it to position (cx,cy) and size (r) the circles\n",
    "    newCircles.enter().append(\"circle\")\n",
    "        .attr(\"cx\", function(d) { return x(d); })\n",
    "        .attr(\"cy\", function(d) { return y(d); })\n",
    "        .attr(\"r\", function(d) { return d; })\n",
    "        .style(\"fill\", function(d,i) { return color(i); })\n",
    "})"
   ]
  },
  {
   "cell_type": "code",
   "execution_count": 33,
   "metadata": {
    "slideshow": {
     "slide_type": "slide"
    }
   },
   "outputs": [
    {
     "data": {
      "application/javascript": [
       "\n",
       "element.append('<div id=\"graph5\" style=\"width: 400px; height: 450px; margin: 0 auto\"></div>');\n",
       "require.config({paths: {d3: \"//d3js.org/d3.v4.min\",}});\n",
       "require([\"d3\"], function(d3) {\n",
       "    \n",
       "    d3.select(\"div#graph5\").selectAll(\"*\").remove();\n",
       "    \n",
       "    var width = 350, height = 350;\n",
       "    var color = d3.scaleOrdinal(d3.schemeCategory10);\n",
       "    var margin = {top: 20, right: 20, bottom: 60, left: 20}\n",
       "    var x = d3.scaleLinear().range([0, width]).domain([0,d3.max(data)]);\n",
       "    var y = d3.scaleLinear().range([height, 0]).domain([0,d3.max(data)]);    \n",
       "    var r = d3.scalePow().exponent(.5).range([2,5]).domain(d3.extent(data));\n",
       "\n",
       "    var vis = d3.select(\"div#graph5\").append(\"svg\")\n",
       "        .attr(\"width\", (width + margin.left + margin.right)+\"px\")\n",
       "        .attr(\"height\", (height + margin.top + margin.bottom)+\"px\")\n",
       "        .append(\"g\")\n",
       "        .attr(\"transform\", \"translate(\" + margin.left + \",\" + margin.top + \")\");\n",
       "    \n",
       "    // Additional details on adding Axis: https://github.com/d3/d3-axis\n",
       "    vis.append(\"g\").attr(\"transform\", \"translate(0,\" + height + \")\")\n",
       "        .call(d3.axisBottom(x));\n",
       "    vis.append(\"g\").call(d3.axisLeft(y));\n",
       "    \n",
       "    var newCircles = vis.selectAll(\"circle\").data(data)\n",
       "        .enter().append(\"circle\")\n",
       "        .attr(\"cx\", function(d) { return x(d); })\n",
       "        .attr(\"cy\", function(d) { return y(d); })\n",
       "        .attr(\"r\", function(d) { return r(d); })\n",
       "        .style(\"fill\", function(d,i) { return color(i); })\n",
       "})"
      ],
      "text/plain": [
       "<IPython.core.display.Javascript object>"
      ]
     },
     "metadata": {},
     "output_type": "display_data"
    }
   ],
   "source": [
    "%%javascript\n",
    "\n",
    "element.append('<div id=\"graph5\" style=\"width: 400px; height: 450px; margin: 0 auto\"></div>');\n",
    "require.config({paths: {d3: \"//d3js.org/d3.v4.min\",}});\n",
    "require([\"d3\"], function(d3) {\n",
    "    \n",
    "    d3.select(\"div#graph5\").selectAll(\"*\").remove();\n",
    "    \n",
    "    var width = 350, height = 350;\n",
    "    var color = d3.scaleOrdinal(d3.schemeCategory10);\n",
    "    var margin = {top: 20, right: 20, bottom: 60, left: 20}\n",
    "    var x = d3.scaleLinear().range([0, width]).domain([0,d3.max(data)]);\n",
    "    var y = d3.scaleLinear().range([height, 0]).domain([0,d3.max(data)]);    \n",
    "    var r = d3.scalePow().exponent(.5).range([2,5]).domain(d3.extent(data));\n",
    "\n",
    "    var vis = d3.select(\"div#graph5\").append(\"svg\")\n",
    "        .attr(\"width\", (width + margin.left + margin.right)+\"px\")\n",
    "        .attr(\"height\", (height + margin.top + margin.bottom)+\"px\")\n",
    "        .append(\"g\")\n",
    "        .attr(\"transform\", \"translate(\" + margin.left + \",\" + margin.top + \")\");\n",
    "    \n",
    "    // Additional details on adding Axis: https://github.com/d3/d3-axis\n",
    "    vis.append(\"g\").attr(\"transform\", \"translate(0,\" + height + \")\")\n",
    "        .call(d3.axisBottom(x));\n",
    "    vis.append(\"g\").call(d3.axisLeft(y));\n",
    "    \n",
    "    var newCircles = vis.selectAll(\"circle\").data(data)\n",
    "        .enter().append(\"circle\")\n",
    "        .attr(\"cx\", function(d) { return x(d); })\n",
    "        .attr(\"cy\", function(d) { return y(d); })\n",
    "        .attr(\"r\", function(d) { return r(d); })\n",
    "        .style(\"fill\", function(d,i) { return color(i); })\n",
    "})"
   ]
  },
  {
   "cell_type": "code",
   "execution_count": 34,
   "metadata": {
    "slideshow": {
     "slide_type": "slide"
    }
   },
   "outputs": [],
   "source": [
    "# Note to self: move back to slides"
   ]
  },
  {
   "cell_type": "code",
   "execution_count": 35,
   "metadata": {
    "slideshow": {
     "slide_type": "slide"
    }
   },
   "outputs": [],
   "source": [
    "# Note to self:\n",
    "\n",
    "# http://www.csc.ncsu.edu/faculty/healey/PP/movies/Dinner.gif\n",
    "\n",
    "# http://www.csc.ncsu.edu/faculty/healey/PP/movies/Airplane.gif"
   ]
  },
  {
   "cell_type": "code",
   "execution_count": 36,
   "metadata": {
    "slideshow": {
     "slide_type": "slide"
    }
   },
   "outputs": [
    {
     "data": {
      "application/javascript": [
       "\n",
       "element.append('<div id=\"graph6\" style=\"width: 400px; height: 450px; margin: 0 auto\"></div>');\n",
       "require.config({paths: {d3: \"//d3js.org/d3.v4.min\",}});\n",
       "require([\"d3\"], function(d3) {\n",
       "    \n",
       "    d3.select(\"div#graph6\").selectAll(\"*\").remove();\n",
       "    \n",
       "    var width = 350, height = 350;\n",
       "    var color = d3.scaleOrdinal(d3.schemeCategory10);\n",
       "    var margin = {top: 20, right: 20, bottom: 60, left: 20}\n",
       "    var x = d3.scaleLinear().range([0, width]).domain([0,d3.max(data)]);\n",
       "    var y = d3.scaleLinear().range([height, 0]).domain([0,d3.max(data)]);    \n",
       "    var r = d3.scalePow().exponent(.5).range([2,5]).domain(d3.extent(data));\n",
       "\n",
       "    var vis = d3.select(\"div#graph6\").append(\"svg\")\n",
       "        .attr(\"width\", (width + margin.left + margin.right)+\"px\")\n",
       "        .attr(\"height\", (height + margin.top + margin.bottom)+\"px\")\n",
       "        .append(\"g\")\n",
       "        .attr(\"transform\", \"translate(\" + margin.left + \",\" + margin.top + \")\");\n",
       "    \n",
       "    vis.append(\"g\").attr(\"transform\", \"translate(0,\" + height + \")\")\n",
       "        .call(d3.axisBottom(x));\n",
       "    vis.append(\"g\").call(d3.axisLeft(y));\n",
       "    vis.selectAll(\"circle\").data(data)\n",
       "        .enter().append(\"circle\")\n",
       "        .attr(\"cx\", function(d) { return x(d); })\n",
       "        .attr(\"cy\", function(d) { return y(d); })\n",
       "        .attr(\"r\", function(d) { return 0; })\n",
       "        .style(\"fill\", function(d,i) { return color(i); })\n",
       "    \n",
       "    // Additional details on Transitions: https://github.com/d3/d3-transition\n",
       "    vis.selectAll(\"circle\").transition().duration(3000)\n",
       "        .attr(\"r\", function(d) { return r(d); })\n",
       "})"
      ],
      "text/plain": [
       "<IPython.core.display.Javascript object>"
      ]
     },
     "metadata": {},
     "output_type": "display_data"
    }
   ],
   "source": [
    "%%javascript\n",
    "\n",
    "element.append('<div id=\"graph6\" style=\"width: 400px; height: 450px; margin: 0 auto\"></div>');\n",
    "require.config({paths: {d3: \"//d3js.org/d3.v4.min\",}});\n",
    "require([\"d3\"], function(d3) {\n",
    "    \n",
    "    d3.select(\"div#graph6\").selectAll(\"*\").remove();\n",
    "    \n",
    "    var width = 350, height = 350;\n",
    "    var color = d3.scaleOrdinal(d3.schemeCategory10);\n",
    "    var margin = {top: 20, right: 20, bottom: 60, left: 20}\n",
    "    var x = d3.scaleLinear().range([0, width]).domain([0,d3.max(data)]);\n",
    "    var y = d3.scaleLinear().range([height, 0]).domain([0,d3.max(data)]);    \n",
    "    var r = d3.scalePow().exponent(.5).range([2,5]).domain(d3.extent(data));\n",
    "\n",
    "    var vis = d3.select(\"div#graph6\").append(\"svg\")\n",
    "        .attr(\"width\", (width + margin.left + margin.right)+\"px\")\n",
    "        .attr(\"height\", (height + margin.top + margin.bottom)+\"px\")\n",
    "        .append(\"g\")\n",
    "        .attr(\"transform\", \"translate(\" + margin.left + \",\" + margin.top + \")\");\n",
    "    \n",
    "    vis.append(\"g\").attr(\"transform\", \"translate(0,\" + height + \")\")\n",
    "        .call(d3.axisBottom(x));\n",
    "    vis.append(\"g\").call(d3.axisLeft(y));\n",
    "    vis.selectAll(\"circle\").data(data)\n",
    "        .enter().append(\"circle\")\n",
    "        .attr(\"cx\", function(d) { return x(d); })\n",
    "        .attr(\"cy\", function(d) { return y(d); })\n",
    "        .attr(\"r\", function(d) { return 0; })\n",
    "        .style(\"fill\", function(d,i) { return color(i); })\n",
    "    \n",
    "    // Additional details on Transitions: https://github.com/d3/d3-transition\n",
    "    vis.selectAll(\"circle\").transition().duration(3000)\n",
    "        .attr(\"r\", function(d) { return r(d); })\n",
    "})"
   ]
  },
  {
   "cell_type": "code",
   "execution_count": 37,
   "metadata": {
    "slideshow": {
     "slide_type": "slide"
    }
   },
   "outputs": [
    {
     "data": {
      "application/javascript": [
       "\n",
       "element.append('<div id=\"graph7\" style=\"width: 400px; height: 450px; margin: 0 auto\"></div>');\n",
       "require.config({paths: {d3: \"//d3js.org/d3.v4.min\",}});\n",
       "require([\"d3\"], function(d3) {\n",
       "    \n",
       "    d3.select(\"div#graph7\").selectAll(\"*\").remove();\n",
       "    \n",
       "    var width = 350, height = 350;\n",
       "    var color = d3.scaleOrdinal(d3.schemeCategory10);\n",
       "    var margin = {top: 20, right: 20, bottom: 60, left: 20}\n",
       "    var x = d3.scaleLinear().range([0, width]).domain([0,d3.max(data)]);\n",
       "    var y = d3.scaleLinear().range([height, 0]).domain([0,d3.max(data)]);    \n",
       "    var r = d3.scalePow().exponent(.5).range([2,5]).domain(d3.extent(data));\n",
       "\n",
       "    var vis = d3.select(\"div#graph7\").append(\"svg\")\n",
       "        .attr(\"width\", (width + margin.left + margin.right)+\"px\")\n",
       "        .attr(\"height\", (height + margin.top + margin.bottom)+\"px\")\n",
       "        .append(\"g\")\n",
       "        .attr(\"transform\", \"translate(\" + margin.left + \",\" + margin.top + \")\");\n",
       "    \n",
       "    vis.append(\"g\").attr(\"transform\", \"translate(0,\" + height + \")\")\n",
       "        .call(d3.axisBottom(x));\n",
       "    vis.append(\"g\").call(d3.axisLeft(y));\n",
       "    vis.selectAll(\"circle\").data(data)\n",
       "        .enter().append(\"circle\")\n",
       "        .attr(\"cx\", function(d) { return 0; })\n",
       "        .attr(\"cy\", function(d) { return height; })\n",
       "        .attr(\"r\", function(d) { return r(d); })\n",
       "        .style(\"fill\", function(d,i) { return color(i); })\n",
       "    \n",
       "    // Additional details on adding Delay to transitions: https://github.com/d3/d3-transition#transition_delay\n",
       "    vis.selectAll(\"circle\").transition().duration(3000).delay(function(d,i) { return (data.length-i)*500; })\n",
       "        .attr(\"cx\", function(d) { return x(d); })\n",
       "        .attr(\"cy\", function(d) { return y(d); })\n",
       "})"
      ],
      "text/plain": [
       "<IPython.core.display.Javascript object>"
      ]
     },
     "metadata": {},
     "output_type": "display_data"
    }
   ],
   "source": [
    "%%javascript\n",
    "\n",
    "element.append('<div id=\"graph7\" style=\"width: 400px; height: 450px; margin: 0 auto\"></div>');\n",
    "require.config({paths: {d3: \"//d3js.org/d3.v4.min\",}});\n",
    "require([\"d3\"], function(d3) {\n",
    "    \n",
    "    d3.select(\"div#graph7\").selectAll(\"*\").remove();\n",
    "    \n",
    "    var width = 350, height = 350;\n",
    "    var color = d3.scaleOrdinal(d3.schemeCategory10);\n",
    "    var margin = {top: 20, right: 20, bottom: 60, left: 20}\n",
    "    var x = d3.scaleLinear().range([0, width]).domain([0,d3.max(data)]);\n",
    "    var y = d3.scaleLinear().range([height, 0]).domain([0,d3.max(data)]);    \n",
    "    var r = d3.scalePow().exponent(.5).range([2,5]).domain(d3.extent(data));\n",
    "\n",
    "    var vis = d3.select(\"div#graph7\").append(\"svg\")\n",
    "        .attr(\"width\", (width + margin.left + margin.right)+\"px\")\n",
    "        .attr(\"height\", (height + margin.top + margin.bottom)+\"px\")\n",
    "        .append(\"g\")\n",
    "        .attr(\"transform\", \"translate(\" + margin.left + \",\" + margin.top + \")\");\n",
    "    \n",
    "    vis.append(\"g\").attr(\"transform\", \"translate(0,\" + height + \")\")\n",
    "        .call(d3.axisBottom(x));\n",
    "    vis.append(\"g\").call(d3.axisLeft(y));\n",
    "    vis.selectAll(\"circle\").data(data)\n",
    "        .enter().append(\"circle\")\n",
    "        .attr(\"cx\", function(d) { return 0; })\n",
    "        .attr(\"cy\", function(d) { return height; })\n",
    "        .attr(\"r\", function(d) { return r(d); })\n",
    "        .style(\"fill\", function(d,i) { return color(i); })\n",
    "    \n",
    "    // Additional details on adding Delay to transitions: https://github.com/d3/d3-transition#transition_delay\n",
    "    vis.selectAll(\"circle\").transition().duration(3000).delay(function(d,i) { return (data.length-i)*500; })\n",
    "        .attr(\"cx\", function(d) { return x(d); })\n",
    "        .attr(\"cy\", function(d) { return y(d); })\n",
    "})"
   ]
  },
  {
   "cell_type": "code",
   "execution_count": 38,
   "metadata": {
    "slideshow": {
     "slide_type": "slide"
    }
   },
   "outputs": [
    {
     "data": {
      "application/javascript": [
       "\n",
       "element.append('<div id=\"graph8\" style=\"width: 400px; height: 450px; margin: 0 auto\"></div>');\n",
       "require.config({paths: {d3: \"//d3js.org/d3.v4.min\",}});\n",
       "require([\"d3\"], function(d3) {\n",
       "    \n",
       "    d3.select(\"div#graph8\").selectAll(\"*\").remove();\n",
       "    \n",
       "    var width = 350, height = 350;\n",
       "    var color = d3.scaleOrdinal(d3.schemeCategory10);\n",
       "    var margin = {top: 20, right: 20, bottom: 60, left: 20}\n",
       "    var x = d3.scaleLinear().range([0, width]).domain([0,d3.max(data)]);\n",
       "    var y = d3.scaleLinear().range([height, 0]).domain([0,d3.max(data)]);    \n",
       "    var r = d3.scalePow().exponent(.5).range([2,5]).domain(d3.extent(data));\n",
       "\n",
       "    var vis = d3.select(\"div#graph8\").append(\"svg\")\n",
       "        .attr(\"width\", (width + margin.left + margin.right)+\"px\")\n",
       "        .attr(\"height\", (height + margin.top + margin.bottom)+\"px\")\n",
       "        .append(\"g\")\n",
       "        .attr(\"transform\", \"translate(\" + margin.left + \",\" + margin.top + \")\");\n",
       "    \n",
       "    vis.append(\"g\").attr(\"transform\", \"translate(0,\" + height + \")\").call(d3.axisBottom(x));\n",
       "    vis.append(\"g\").call(d3.axisLeft(y));\n",
       "    vis.selectAll(\"circle\").data(data)\n",
       "        .enter().append(\"circle\")\n",
       "        .attr(\"cx\", function(d) { return 0; })\n",
       "        .attr(\"cy\", function(d) { return height; })\n",
       "        .attr(\"r\", function(d) { return r(d); })\n",
       "        .style(\"fill\", function(d,i) { return color(i); })\n",
       "    \n",
       "    // Additional details on adding Ease to transitions: https://github.com/d3/d3-transition#transition_ease\n",
       "    vis.selectAll(\"circle\").transition().duration(3000).delay(function(d,i) { return (data.length-i)*500; }).ease(d3.easeElastic)  \n",
       "        .attr(\"cx\", function(d) { return x(d); })\n",
       "        .attr(\"cy\", function(d) { return y(d); })\n",
       "})"
      ],
      "text/plain": [
       "<IPython.core.display.Javascript object>"
      ]
     },
     "metadata": {},
     "output_type": "display_data"
    }
   ],
   "source": [
    "%%javascript\n",
    "\n",
    "element.append('<div id=\"graph8\" style=\"width: 400px; height: 450px; margin: 0 auto\"></div>');\n",
    "require.config({paths: {d3: \"//d3js.org/d3.v4.min\",}});\n",
    "require([\"d3\"], function(d3) {\n",
    "    \n",
    "    d3.select(\"div#graph8\").selectAll(\"*\").remove();\n",
    "    \n",
    "    var width = 350, height = 350;\n",
    "    var color = d3.scaleOrdinal(d3.schemeCategory10);\n",
    "    var margin = {top: 20, right: 20, bottom: 60, left: 20}\n",
    "    var x = d3.scaleLinear().range([0, width]).domain([0,d3.max(data)]);\n",
    "    var y = d3.scaleLinear().range([height, 0]).domain([0,d3.max(data)]);    \n",
    "    var r = d3.scalePow().exponent(.5).range([2,5]).domain(d3.extent(data));\n",
    "\n",
    "    var vis = d3.select(\"div#graph8\").append(\"svg\")\n",
    "        .attr(\"width\", (width + margin.left + margin.right)+\"px\")\n",
    "        .attr(\"height\", (height + margin.top + margin.bottom)+\"px\")\n",
    "        .append(\"g\")\n",
    "        .attr(\"transform\", \"translate(\" + margin.left + \",\" + margin.top + \")\");\n",
    "    \n",
    "    vis.append(\"g\").attr(\"transform\", \"translate(0,\" + height + \")\").call(d3.axisBottom(x));\n",
    "    vis.append(\"g\").call(d3.axisLeft(y));\n",
    "    vis.selectAll(\"circle\").data(data)\n",
    "        .enter().append(\"circle\")\n",
    "        .attr(\"cx\", function(d) { return 0; })\n",
    "        .attr(\"cy\", function(d) { return height; })\n",
    "        .attr(\"r\", function(d) { return r(d); })\n",
    "        .style(\"fill\", function(d,i) { return color(i); })\n",
    "    \n",
    "    // Additional details on adding Ease to transitions: https://github.com/d3/d3-transition#transition_ease\n",
    "    vis.selectAll(\"circle\").transition().duration(3000).delay(function(d,i) { return (data.length-i)*500; }).ease(d3.easeElastic)  \n",
    "        .attr(\"cx\", function(d) { return x(d); })\n",
    "        .attr(\"cy\", function(d) { return y(d); })\n",
    "})"
   ]
  },
  {
   "cell_type": "code",
   "execution_count": 39,
   "metadata": {
    "slideshow": {
     "slide_type": "slide"
    }
   },
   "outputs": [],
   "source": [
    "# Note to self: move back to slides"
   ]
  },
  {
   "cell_type": "code",
   "execution_count": 40,
   "metadata": {
    "slideshow": {
     "slide_type": "slide"
    }
   },
   "outputs": [
    {
     "data": {
      "application/javascript": [
       "\n",
       "element.append('<div id=\"graph9\" style=\"width: 400px; height: 450px; margin: 0 auto\"></div>');\n",
       "require.config({paths: {d3: \"//d3js.org/d3.v4.min\",}});\n",
       "require([\"d3\"], function(d3) {\n",
       "    d3.select(\"div#graph9\").selectAll(\"*\").remove();\n",
       "    var width = 350, height = 350;\n",
       "    var color = d3.scaleOrdinal(d3.schemeCategory10);\n",
       "    var margin = {top: 20, right: 20, bottom: 60, left: 20}\n",
       "    var x = d3.scaleLinear().range([0, width]).domain([0,d3.max(data)]);\n",
       "    var y = d3.scaleLinear().range([height, 0]).domain([0,d3.max(data)]);    \n",
       "    var r = d3.scalePow().exponent(.5).range([2,10]).domain(d3.extent(data));\n",
       "\n",
       "    var vis = d3.select(\"div#graph9\").append(\"svg\")\n",
       "        .attr(\"width\", (width + margin.left + margin.right)+\"px\")\n",
       "        .attr(\"height\", (height + margin.top + margin.bottom)+\"px\")\n",
       "        .append(\"g\").attr(\"transform\", \"translate(\" + margin.left + \",\" + margin.top + \")\");\n",
       "    \n",
       "    vis.append(\"g\").attr(\"transform\", \"translate(0,\" + height + \")\").call(d3.axisBottom(x));\n",
       "    vis.append(\"g\").call(d3.axisLeft(y));\n",
       "    var newCircles = vis.selectAll(\"circle\").data(data)\n",
       "        .enter().append(\"circle\")\n",
       "        .attr(\"cx\", function(d) { return x(d); })\n",
       "        .attr(\"cy\", function(d) { return y(d); })\n",
       "        .attr(\"r\", function(d) { return r(d); })\n",
       "        .style(\"fill\", function(d,i) { return color(i); })\n",
       "        .style(\"stroke\", \"black\")\n",
       "        .style(\"stroke-width\", \"2px\")\n",
       "        // Additional details on mouse events: https://github.com/d3/d3-selection/blob/master/README.md#handling-events\n",
       "        .on(\"mouseover\", function(d) { d3.select(this).style(\"stroke-width\", \"5px\") })\n",
       "        .on(\"mouseout\", function(d) { d3.select(this).style(\"stroke-width\", \"2px\") })\n",
       "        .append(\"title\").text(function(d) { return \"Data Value: \"+d; })\n",
       "    \n",
       "})"
      ],
      "text/plain": [
       "<IPython.core.display.Javascript object>"
      ]
     },
     "metadata": {},
     "output_type": "display_data"
    }
   ],
   "source": [
    "%%javascript\n",
    "\n",
    "element.append('<div id=\"graph9\" style=\"width: 400px; height: 450px; margin: 0 auto\"></div>');\n",
    "require.config({paths: {d3: \"//d3js.org/d3.v4.min\",}});\n",
    "require([\"d3\"], function(d3) {\n",
    "    d3.select(\"div#graph9\").selectAll(\"*\").remove();\n",
    "    var width = 350, height = 350;\n",
    "    var color = d3.scaleOrdinal(d3.schemeCategory10);\n",
    "    var margin = {top: 20, right: 20, bottom: 60, left: 20}\n",
    "    var x = d3.scaleLinear().range([0, width]).domain([0,d3.max(data)]);\n",
    "    var y = d3.scaleLinear().range([height, 0]).domain([0,d3.max(data)]);    \n",
    "    var r = d3.scalePow().exponent(.5).range([2,10]).domain(d3.extent(data));\n",
    "\n",
    "    var vis = d3.select(\"div#graph9\").append(\"svg\")\n",
    "        .attr(\"width\", (width + margin.left + margin.right)+\"px\")\n",
    "        .attr(\"height\", (height + margin.top + margin.bottom)+\"px\")\n",
    "        .append(\"g\").attr(\"transform\", \"translate(\" + margin.left + \",\" + margin.top + \")\");\n",
    "    \n",
    "    vis.append(\"g\").attr(\"transform\", \"translate(0,\" + height + \")\").call(d3.axisBottom(x));\n",
    "    vis.append(\"g\").call(d3.axisLeft(y));\n",
    "    var newCircles = vis.selectAll(\"circle\").data(data)\n",
    "        .enter().append(\"circle\")\n",
    "        .attr(\"cx\", function(d) { return x(d); })\n",
    "        .attr(\"cy\", function(d) { return y(d); })\n",
    "        .attr(\"r\", function(d) { return r(d); })\n",
    "        .style(\"fill\", function(d,i) { return color(i); })\n",
    "        .style(\"stroke\", \"black\")\n",
    "        .style(\"stroke-width\", \"2px\")\n",
    "        // Additional details on mouse events: https://github.com/d3/d3-selection/blob/master/README.md#handling-events\n",
    "        .on(\"mouseover\", function(d) { d3.select(this).style(\"stroke-width\", \"5px\") })\n",
    "        .on(\"mouseout\", function(d) { d3.select(this).style(\"stroke-width\", \"2px\") })\n",
    "        .append(\"title\").text(function(d) { return \"Data Value: \"+d; })\n",
    "    \n",
    "})"
   ]
  },
  {
   "cell_type": "code",
   "execution_count": 41,
   "metadata": {
    "slideshow": {
     "slide_type": "slide"
    }
   },
   "outputs": [],
   "source": [
    "# Note to self: move back to slides"
   ]
  },
  {
   "cell_type": "code",
   "execution_count": 42,
   "metadata": {
    "slideshow": {
     "slide_type": "slide"
    }
   },
   "outputs": [
    {
     "data": {
      "application/javascript": [
       "window.data=[2,3,6,19,23,35]"
      ],
      "text/plain": [
       "<IPython.core.display.Javascript object>"
      ]
     },
     "execution_count": 42,
     "metadata": {},
     "output_type": "execute_result"
    }
   ],
   "source": [
    "from IPython.display import Javascript\n",
    "Javascript(\"window.data=[2,3,6,19,23,35]\") #Our dataset, called data (original, huh?)"
   ]
  },
  {
   "cell_type": "code",
   "execution_count": 43,
   "metadata": {
    "slideshow": {
     "slide_type": "slide"
    }
   },
   "outputs": [
    {
     "data": {
      "application/javascript": [
       "\n",
       "element.append('<div id=\"graph10\" style=\"width: 400px; height: 450px; margin: 0 auto\"></div>');\n",
       "require.config({paths: {d3: \"//d3js.org/d3.v4.min\",}});\n",
       "require([\"d3\"], function(d3) {\n",
       "    \n",
       "    d3.select(\"div#graph10\").selectAll(\"*\").remove();\n",
       "    \n",
       "    var width = 350, height = 350;\n",
       "    var color = d3.scaleOrdinal(d3.schemeCategory10);\n",
       "    var x = d3.scaleLinear().range([0, width]).domain([0,d3.max(data)]);\n",
       "    var y = d3.scaleLinear().range([height, 0]).domain([0,d3.max(data)]);   \n",
       "    var vis = d3.select(\"div#graph10\").append(\"svg\")\n",
       "        .attr(\"width\", (width+50)+\"px\")\n",
       "        .attr(\"height\", (height+50)+\"px\").append(\"g\")\n",
       "        .attr(\"transform\", \"translate(\" + 40 + \",\" + 20 + \")\");\n",
       "    \n",
       "    vis.append(\"g\").attr(\"class\",\"xaxis\").attr(\"transform\", \"translate(0,\" + height + \")\").call(d3.axisBottom(x));\n",
       "    vis.append(\"g\").attr(\"class\",\"yaxis\").call(d3.axisLeft(y));\n",
       "    \n",
       "    var newCircles = vis.selectAll(\"circle\").data(data, function(d,i) { return i })\n",
       "        .enter().append(\"circle\")\n",
       "        .attr(\"cx\", function(d) { return x(d); })\n",
       "        .attr(\"cy\", function(d) { return y(d); })    \n",
       "        .attr(\"r\", function(d) { return 5; })\n",
       "        .style(\"fill\", function(d,i) { return color(i); })\n",
       "    \n",
       "    // Additional details on enter, update, exit data: https://bost.ocks.org/mike/join/\n",
       "    d3.select(\"div#graph10\")\n",
       "        .on(\"click\", function() {\n",
       "        data.push(Math.floor((Math.random() * 1000) + 1))\n",
       "        x.domain([0,d3.max(data)]);\n",
       "        y.domain([0,d3.max(data)]);  \n",
       "        vis.select(\"g.xaxis\").transition() // change the x axis\n",
       "            .duration(750)\n",
       "            .call(d3.axisBottom(x))\n",
       "        vis.select(\"g.yaxis\").transition() // change the y axis\n",
       "            .duration(750)\n",
       "            .call(d3.axisLeft(y));\n",
       "        vis.selectAll(\"circle\").data(data, function(d,i) { return d } )\n",
       "            .enter().append(\"circle\")\n",
       "            .attr(\"cx\", function(d) { return 0; })\n",
       "            .attr(\"cy\", function(d) { return 0; })\n",
       "            .attr(\"r\", function(d) { return 5; })\n",
       "            .style(\"fill\", function(d,i) { return color(d); })\n",
       "            .append(\"title\").text(function(d) { return \"Data Value: \"+d; })\n",
       "        vis.selectAll(\"circle\")\n",
       "            .transition().duration(500)\n",
       "            .attr(\"cx\", function(d) { return x(d); })\n",
       "            .attr(\"cy\", function(d) { return y(d); })       \n",
       "                    \n",
       "    });\n",
       "    \n",
       "})"
      ],
      "text/plain": [
       "<IPython.core.display.Javascript object>"
      ]
     },
     "metadata": {},
     "output_type": "display_data"
    }
   ],
   "source": [
    "%%javascript\n",
    "\n",
    "element.append('<div id=\"graph10\" style=\"width: 400px; height: 450px; margin: 0 auto\"></div>');\n",
    "require.config({paths: {d3: \"//d3js.org/d3.v4.min\",}});\n",
    "require([\"d3\"], function(d3) {\n",
    "    \n",
    "    d3.select(\"div#graph10\").selectAll(\"*\").remove();\n",
    "    \n",
    "    var width = 350, height = 350;\n",
    "    var color = d3.scaleOrdinal(d3.schemeCategory10);\n",
    "    var x = d3.scaleLinear().range([0, width]).domain([0,d3.max(data)]);\n",
    "    var y = d3.scaleLinear().range([height, 0]).domain([0,d3.max(data)]);   \n",
    "    var vis = d3.select(\"div#graph10\").append(\"svg\")\n",
    "        .attr(\"width\", (width+50)+\"px\")\n",
    "        .attr(\"height\", (height+50)+\"px\").append(\"g\")\n",
    "        .attr(\"transform\", \"translate(\" + 40 + \",\" + 20 + \")\");\n",
    "    \n",
    "    vis.append(\"g\").attr(\"class\",\"xaxis\").attr(\"transform\", \"translate(0,\" + height + \")\").call(d3.axisBottom(x));\n",
    "    vis.append(\"g\").attr(\"class\",\"yaxis\").call(d3.axisLeft(y));\n",
    "    \n",
    "    var newCircles = vis.selectAll(\"circle\").data(data, function(d,i) { return i })\n",
    "        .enter().append(\"circle\")\n",
    "        .attr(\"cx\", function(d) { return x(d); })\n",
    "        .attr(\"cy\", function(d) { return y(d); })    \n",
    "        .attr(\"r\", function(d) { return 5; })\n",
    "        .style(\"fill\", function(d,i) { return color(i); })\n",
    "    \n",
    "    // Additional details on enter, update, exit data: https://bost.ocks.org/mike/join/\n",
    "    d3.select(\"div#graph10\")\n",
    "        .on(\"click\", function() {\n",
    "        data.push(Math.floor((Math.random() * 1000) + 1))\n",
    "        x.domain([0,d3.max(data)]);\n",
    "        y.domain([0,d3.max(data)]);  \n",
    "        vis.select(\"g.xaxis\").transition() // change the x axis\n",
    "            .duration(750)\n",
    "            .call(d3.axisBottom(x))\n",
    "        vis.select(\"g.yaxis\").transition() // change the y axis\n",
    "            .duration(750)\n",
    "            .call(d3.axisLeft(y));\n",
    "        vis.selectAll(\"circle\").data(data, function(d,i) { return d } )\n",
    "            .enter().append(\"circle\")\n",
    "            .attr(\"cx\", function(d) { return 0; })\n",
    "            .attr(\"cy\", function(d) { return 0; })\n",
    "            .attr(\"r\", function(d) { return 5; })\n",
    "            .style(\"fill\", function(d,i) { return color(d); })\n",
    "            .append(\"title\").text(function(d) { return \"Data Value: \"+d; })\n",
    "        vis.selectAll(\"circle\")\n",
    "            .transition().duration(500)\n",
    "            .attr(\"cx\", function(d) { return x(d); })\n",
    "            .attr(\"cy\", function(d) { return y(d); })       \n",
    "                    \n",
    "    });\n",
    "    \n",
    "})"
   ]
  }
 ],
 "metadata": {
  "celltoolbar": "Slideshow",
  "kernelspec": {
   "display_name": "Python 2",
   "language": "python",
   "name": "python2"
  },
  "language_info": {
   "codemirror_mode": {
    "name": "ipython",
    "version": 2
   },
   "file_extension": ".py",
   "mimetype": "text/x-python",
   "name": "python",
   "nbconvert_exporter": "python",
   "pygments_lexer": "ipython2",
   "version": "2.7.14"
  }
 },
 "nbformat": 4,
 "nbformat_minor": 2
}
